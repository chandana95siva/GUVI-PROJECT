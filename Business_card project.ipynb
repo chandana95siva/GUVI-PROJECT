{
  "cells": [
    {
      "cell_type": "code",
      "execution_count": null,
      "metadata": {
        "colab": {
          "base_uri": "https://localhost:8080/"
        },
        "id": "870_ynQxYdiY",
        "outputId": "9f677a8f-1944-4515-8c5c-4119441a3e64"
      },
      "outputs": [
        {
          "output_type": "stream",
          "name": "stdout",
          "text": [
            "Collecting easyocr\n",
            "  Downloading easyocr-1.7.1-py3-none-any.whl (2.9 MB)\n",
            "\u001b[2K     \u001b[90m━━━━━━━━━━━━━━━━━━━━━━━━━━━━━━━━━━━━━━━━\u001b[0m \u001b[32m2.9/2.9 MB\u001b[0m \u001b[31m24.7 MB/s\u001b[0m eta \u001b[36m0:00:00\u001b[0m\n",
            "\u001b[?25hRequirement already satisfied: torch in /usr/local/lib/python3.10/dist-packages (from easyocr) (2.1.0+cu118)\n",
            "Requirement already satisfied: torchvision>=0.5 in /usr/local/lib/python3.10/dist-packages (from easyocr) (0.16.0+cu118)\n",
            "Requirement already satisfied: opencv-python-headless in /usr/local/lib/python3.10/dist-packages (from easyocr) (4.8.1.78)\n",
            "Requirement already satisfied: scipy in /usr/local/lib/python3.10/dist-packages (from easyocr) (1.11.3)\n",
            "Requirement already satisfied: numpy in /usr/local/lib/python3.10/dist-packages (from easyocr) (1.23.5)\n",
            "Requirement already satisfied: Pillow in /usr/local/lib/python3.10/dist-packages (from easyocr) (9.4.0)\n",
            "Requirement already satisfied: scikit-image in /usr/local/lib/python3.10/dist-packages (from easyocr) (0.19.3)\n",
            "Collecting python-bidi (from easyocr)\n",
            "  Downloading python_bidi-0.4.2-py2.py3-none-any.whl (30 kB)\n",
            "Requirement already satisfied: PyYAML in /usr/local/lib/python3.10/dist-packages (from easyocr) (6.0.1)\n",
            "Requirement already satisfied: Shapely in /usr/local/lib/python3.10/dist-packages (from easyocr) (2.0.2)\n",
            "Collecting pyclipper (from easyocr)\n",
            "  Downloading pyclipper-1.3.0.post5-cp310-cp310-manylinux_2_12_x86_64.manylinux2010_x86_64.whl (908 kB)\n",
            "\u001b[2K     \u001b[90m━━━━━━━━━━━━━━━━━━━━━━━━━━━━━━━━━━━━━━━━\u001b[0m \u001b[32m908.3/908.3 kB\u001b[0m \u001b[31m46.6 MB/s\u001b[0m eta \u001b[36m0:00:00\u001b[0m\n",
            "\u001b[?25hCollecting ninja (from easyocr)\n",
            "  Downloading ninja-1.11.1.1-py2.py3-none-manylinux1_x86_64.manylinux_2_5_x86_64.whl (307 kB)\n",
            "\u001b[2K     \u001b[90m━━━━━━━━━━━━━━━━━━━━━━━━━━━━━━━━━━━━━━━━\u001b[0m \u001b[32m307.2/307.2 kB\u001b[0m \u001b[31m26.1 MB/s\u001b[0m eta \u001b[36m0:00:00\u001b[0m\n",
            "\u001b[?25hRequirement already satisfied: requests in /usr/local/lib/python3.10/dist-packages (from torchvision>=0.5->easyocr) (2.31.0)\n",
            "Requirement already satisfied: filelock in /usr/local/lib/python3.10/dist-packages (from torch->easyocr) (3.13.1)\n",
            "Requirement already satisfied: typing-extensions in /usr/local/lib/python3.10/dist-packages (from torch->easyocr) (4.5.0)\n",
            "Requirement already satisfied: sympy in /usr/local/lib/python3.10/dist-packages (from torch->easyocr) (1.12)\n",
            "Requirement already satisfied: networkx in /usr/local/lib/python3.10/dist-packages (from torch->easyocr) (3.2.1)\n",
            "Requirement already satisfied: jinja2 in /usr/local/lib/python3.10/dist-packages (from torch->easyocr) (3.1.2)\n",
            "Requirement already satisfied: fsspec in /usr/local/lib/python3.10/dist-packages (from torch->easyocr) (2023.6.0)\n",
            "Requirement already satisfied: triton==2.1.0 in /usr/local/lib/python3.10/dist-packages (from torch->easyocr) (2.1.0)\n",
            "Requirement already satisfied: six in /usr/local/lib/python3.10/dist-packages (from python-bidi->easyocr) (1.16.0)\n",
            "Requirement already satisfied: imageio>=2.4.1 in /usr/local/lib/python3.10/dist-packages (from scikit-image->easyocr) (2.31.6)\n",
            "Requirement already satisfied: tifffile>=2019.7.26 in /usr/local/lib/python3.10/dist-packages (from scikit-image->easyocr) (2023.9.26)\n",
            "Requirement already satisfied: PyWavelets>=1.1.1 in /usr/local/lib/python3.10/dist-packages (from scikit-image->easyocr) (1.4.1)\n",
            "Requirement already satisfied: packaging>=20.0 in /usr/local/lib/python3.10/dist-packages (from scikit-image->easyocr) (23.2)\n",
            "Requirement already satisfied: MarkupSafe>=2.0 in /usr/local/lib/python3.10/dist-packages (from jinja2->torch->easyocr) (2.1.3)\n",
            "Requirement already satisfied: charset-normalizer<4,>=2 in /usr/local/lib/python3.10/dist-packages (from requests->torchvision>=0.5->easyocr) (3.3.2)\n",
            "Requirement already satisfied: idna<4,>=2.5 in /usr/local/lib/python3.10/dist-packages (from requests->torchvision>=0.5->easyocr) (3.4)\n",
            "Requirement already satisfied: urllib3<3,>=1.21.1 in /usr/local/lib/python3.10/dist-packages (from requests->torchvision>=0.5->easyocr) (2.0.7)\n",
            "Requirement already satisfied: certifi>=2017.4.17 in /usr/local/lib/python3.10/dist-packages (from requests->torchvision>=0.5->easyocr) (2023.7.22)\n",
            "Requirement already satisfied: mpmath>=0.19 in /usr/local/lib/python3.10/dist-packages (from sympy->torch->easyocr) (1.3.0)\n",
            "Installing collected packages: pyclipper, ninja, python-bidi, easyocr\n",
            "Successfully installed easyocr-1.7.1 ninja-1.11.1.1 pyclipper-1.3.0.post5 python-bidi-0.4.2\n"
          ]
        }
      ],
      "source": [
        "!pip install easyocr"
      ]
    },
    {
      "cell_type": "code",
      "execution_count": null,
      "metadata": {
        "colab": {
          "base_uri": "https://localhost:8080/"
        },
        "id": "hJXBqFqXgz-l",
        "outputId": "8a3cba45-1873-444f-a908-ca38246edba2"
      },
      "outputs": [
        {
          "output_type": "stream",
          "name": "stdout",
          "text": [
            "Requirement already satisfied: opencv-python in /usr/local/lib/python3.10/dist-packages (4.8.0.76)\n",
            "Requirement already satisfied: numpy>=1.21.2 in /usr/local/lib/python3.10/dist-packages (from opencv-python) (1.23.5)\n"
          ]
        }
      ],
      "source": [
        "!pip install opencv-python"
      ]
    },
    {
      "cell_type": "code",
      "execution_count": null,
      "metadata": {
        "id": "d3qp-01UlJrr",
        "colab": {
          "base_uri": "https://localhost:8080/"
        },
        "outputId": "23069e87-493e-4a19-c490-6d289dd0c863"
      },
      "outputs": [
        {
          "output_type": "stream",
          "name": "stdout",
          "text": [
            "Requirement already satisfied: streamlit in /usr/local/lib/python3.10/dist-packages (1.28.2)\n",
            "Requirement already satisfied: altair<6,>=4.0 in /usr/local/lib/python3.10/dist-packages (from streamlit) (4.2.2)\n",
            "Requirement already satisfied: blinker<2,>=1.0.0 in /usr/lib/python3/dist-packages (from streamlit) (1.4)\n",
            "Requirement already satisfied: cachetools<6,>=4.0 in /usr/local/lib/python3.10/dist-packages (from streamlit) (5.3.2)\n",
            "Requirement already satisfied: click<9,>=7.0 in /usr/local/lib/python3.10/dist-packages (from streamlit) (8.1.7)\n",
            "Requirement already satisfied: importlib-metadata<7,>=1.4 in /usr/local/lib/python3.10/dist-packages (from streamlit) (6.8.0)\n",
            "Requirement already satisfied: numpy<2,>=1.19.3 in /usr/local/lib/python3.10/dist-packages (from streamlit) (1.23.5)\n",
            "Requirement already satisfied: packaging<24,>=16.8 in /usr/local/lib/python3.10/dist-packages (from streamlit) (23.2)\n",
            "Requirement already satisfied: pandas<3,>=1.3.0 in /usr/local/lib/python3.10/dist-packages (from streamlit) (1.5.3)\n",
            "Requirement already satisfied: pillow<11,>=7.1.0 in /usr/local/lib/python3.10/dist-packages (from streamlit) (9.4.0)\n",
            "Requirement already satisfied: protobuf<5,>=3.20 in /usr/local/lib/python3.10/dist-packages (from streamlit) (3.20.3)\n",
            "Requirement already satisfied: pyarrow>=6.0 in /usr/local/lib/python3.10/dist-packages (from streamlit) (9.0.0)\n",
            "Requirement already satisfied: python-dateutil<3,>=2.7.3 in /usr/local/lib/python3.10/dist-packages (from streamlit) (2.8.2)\n",
            "Requirement already satisfied: requests<3,>=2.27 in /usr/local/lib/python3.10/dist-packages (from streamlit) (2.31.0)\n",
            "Requirement already satisfied: rich<14,>=10.14.0 in /usr/local/lib/python3.10/dist-packages (from streamlit) (13.7.0)\n",
            "Requirement already satisfied: tenacity<9,>=8.1.0 in /usr/local/lib/python3.10/dist-packages (from streamlit) (8.2.3)\n",
            "Requirement already satisfied: toml<2,>=0.10.1 in /usr/local/lib/python3.10/dist-packages (from streamlit) (0.10.2)\n",
            "Requirement already satisfied: typing-extensions<5,>=4.3.0 in /usr/local/lib/python3.10/dist-packages (from streamlit) (4.5.0)\n",
            "Requirement already satisfied: tzlocal<6,>=1.1 in /usr/local/lib/python3.10/dist-packages (from streamlit) (5.2)\n",
            "Requirement already satisfied: validators<1,>=0.2 in /usr/local/lib/python3.10/dist-packages (from streamlit) (0.22.0)\n",
            "Requirement already satisfied: gitpython!=3.1.19,<4,>=3.0.7 in /usr/local/lib/python3.10/dist-packages (from streamlit) (3.1.40)\n",
            "Requirement already satisfied: pydeck<1,>=0.8.0b4 in /usr/local/lib/python3.10/dist-packages (from streamlit) (0.8.1b0)\n",
            "Requirement already satisfied: tornado<7,>=6.0.3 in /usr/local/lib/python3.10/dist-packages (from streamlit) (6.3.2)\n",
            "Requirement already satisfied: watchdog>=2.1.5 in /usr/local/lib/python3.10/dist-packages (from streamlit) (3.0.0)\n",
            "Requirement already satisfied: entrypoints in /usr/local/lib/python3.10/dist-packages (from altair<6,>=4.0->streamlit) (0.4)\n",
            "Requirement already satisfied: jinja2 in /usr/local/lib/python3.10/dist-packages (from altair<6,>=4.0->streamlit) (3.1.2)\n",
            "Requirement already satisfied: jsonschema>=3.0 in /usr/local/lib/python3.10/dist-packages (from altair<6,>=4.0->streamlit) (4.19.2)\n",
            "Requirement already satisfied: toolz in /usr/local/lib/python3.10/dist-packages (from altair<6,>=4.0->streamlit) (0.12.0)\n",
            "Requirement already satisfied: gitdb<5,>=4.0.1 in /usr/local/lib/python3.10/dist-packages (from gitpython!=3.1.19,<4,>=3.0.7->streamlit) (4.0.11)\n",
            "Requirement already satisfied: zipp>=0.5 in /usr/local/lib/python3.10/dist-packages (from importlib-metadata<7,>=1.4->streamlit) (3.17.0)\n",
            "Requirement already satisfied: pytz>=2020.1 in /usr/local/lib/python3.10/dist-packages (from pandas<3,>=1.3.0->streamlit) (2023.3.post1)\n",
            "Requirement already satisfied: six>=1.5 in /usr/local/lib/python3.10/dist-packages (from python-dateutil<3,>=2.7.3->streamlit) (1.16.0)\n",
            "Requirement already satisfied: charset-normalizer<4,>=2 in /usr/local/lib/python3.10/dist-packages (from requests<3,>=2.27->streamlit) (3.3.2)\n",
            "Requirement already satisfied: idna<4,>=2.5 in /usr/local/lib/python3.10/dist-packages (from requests<3,>=2.27->streamlit) (3.4)\n",
            "Requirement already satisfied: urllib3<3,>=1.21.1 in /usr/local/lib/python3.10/dist-packages (from requests<3,>=2.27->streamlit) (2.0.7)\n",
            "Requirement already satisfied: certifi>=2017.4.17 in /usr/local/lib/python3.10/dist-packages (from requests<3,>=2.27->streamlit) (2023.7.22)\n",
            "Requirement already satisfied: markdown-it-py>=2.2.0 in /usr/local/lib/python3.10/dist-packages (from rich<14,>=10.14.0->streamlit) (3.0.0)\n",
            "Requirement already satisfied: pygments<3.0.0,>=2.13.0 in /usr/local/lib/python3.10/dist-packages (from rich<14,>=10.14.0->streamlit) (2.16.1)\n",
            "Requirement already satisfied: smmap<6,>=3.0.1 in /usr/local/lib/python3.10/dist-packages (from gitdb<5,>=4.0.1->gitpython!=3.1.19,<4,>=3.0.7->streamlit) (5.0.1)\n",
            "Requirement already satisfied: MarkupSafe>=2.0 in /usr/local/lib/python3.10/dist-packages (from jinja2->altair<6,>=4.0->streamlit) (2.1.3)\n",
            "Requirement already satisfied: attrs>=22.2.0 in /usr/local/lib/python3.10/dist-packages (from jsonschema>=3.0->altair<6,>=4.0->streamlit) (23.1.0)\n",
            "Requirement already satisfied: jsonschema-specifications>=2023.03.6 in /usr/local/lib/python3.10/dist-packages (from jsonschema>=3.0->altair<6,>=4.0->streamlit) (2023.11.1)\n",
            "Requirement already satisfied: referencing>=0.28.4 in /usr/local/lib/python3.10/dist-packages (from jsonschema>=3.0->altair<6,>=4.0->streamlit) (0.31.0)\n",
            "Requirement already satisfied: rpds-py>=0.7.1 in /usr/local/lib/python3.10/dist-packages (from jsonschema>=3.0->altair<6,>=4.0->streamlit) (0.13.0)\n",
            "Requirement already satisfied: mdurl~=0.1 in /usr/local/lib/python3.10/dist-packages (from markdown-it-py>=2.2.0->rich<14,>=10.14.0->streamlit) (0.1.2)\n"
          ]
        }
      ],
      "source": [
        "!pip install streamlit"
      ]
    },
    {
      "cell_type": "code",
      "execution_count": null,
      "metadata": {
        "id": "8wZtWVqnlJmA",
        "colab": {
          "base_uri": "https://localhost:8080/"
        },
        "outputId": "f89bff20-e8d9-4304-a6e9-f1c389880953"
      },
      "outputs": [
        {
          "output_type": "stream",
          "name": "stdout",
          "text": [
            "Collecting pyngrok\n",
            "  Downloading pyngrok-7.0.1.tar.gz (731 kB)\n",
            "\u001b[2K     \u001b[90m━━━━━━━━━━━━━━━━━━━━━━━━━━━━━━━━━━━━━━━━\u001b[0m \u001b[32m731.8/731.8 kB\u001b[0m \u001b[31m8.9 MB/s\u001b[0m eta \u001b[36m0:00:00\u001b[0m\n",
            "\u001b[?25h  Preparing metadata (setup.py) ... \u001b[?25l\u001b[?25hdone\n",
            "Requirement already satisfied: PyYAML in /usr/local/lib/python3.10/dist-packages (from pyngrok) (6.0.1)\n",
            "Building wheels for collected packages: pyngrok\n",
            "  Building wheel for pyngrok (setup.py) ... \u001b[?25l\u001b[?25hdone\n",
            "  Created wheel for pyngrok: filename=pyngrok-7.0.1-py3-none-any.whl size=21122 sha256=9f4c7f33fb3dad5e46a108d72d869ead2b3d79324af737dcaf6b92c9f4ec5707\n",
            "  Stored in directory: /root/.cache/pip/wheels/3b/32/0e/27789b6fde02bf2b320d6f1a0fd9e1354b257c5f75eefc29bc\n",
            "Successfully built pyngrok\n",
            "Installing collected packages: pyngrok\n",
            "Successfully installed pyngrok-7.0.1\n"
          ]
        }
      ],
      "source": [
        "!pip install pyngrok"
      ]
    },
    {
      "cell_type": "code",
      "execution_count": null,
      "metadata": {
        "id": "sdrNZmRslJX9",
        "colab": {
          "base_uri": "https://localhost:8080/"
        },
        "outputId": "5d5a6cf1-5fa9-44aa-e849-6bc5fb44fbf6"
      },
      "outputs": [
        {
          "output_type": "stream",
          "name": "stdout",
          "text": [
            "\u001b[K\u001b[?25h\u001b[37;40mnpm\u001b[0m \u001b[0m\u001b[30;43mWARN\u001b[0m \u001b[0m\u001b[35msaveError\u001b[0m ENOENT: no such file or directory, open '/content/package.json'\n",
            "\u001b[K\u001b[?25h\u001b[37;40mnpm\u001b[0m \u001b[0m\u001b[34;40mnotice\u001b[0m\u001b[35m\u001b[0m created a lockfile as package-lock.json. You should commit this file.\n",
            "\u001b[0m\u001b[37;40mnpm\u001b[0m \u001b[0m\u001b[30;43mWARN\u001b[0m \u001b[0m\u001b[35menoent\u001b[0m ENOENT: no such file or directory, open '/content/package.json'\n",
            "\u001b[0m\u001b[37;40mnpm\u001b[0m \u001b[0m\u001b[30;43mWARN\u001b[0m\u001b[35m\u001b[0m content No description\n",
            "\u001b[0m\u001b[37;40mnpm\u001b[0m \u001b[0m\u001b[30;43mWARN\u001b[0m\u001b[35m\u001b[0m content No repository field.\n",
            "\u001b[0m\u001b[37;40mnpm\u001b[0m \u001b[0m\u001b[30;43mWARN\u001b[0m\u001b[35m\u001b[0m content No README data\n",
            "\u001b[0m\u001b[37;40mnpm\u001b[0m \u001b[0m\u001b[30;43mWARN\u001b[0m\u001b[35m\u001b[0m content No license field.\n",
            "\u001b[0m\n",
            "+ localtunnel@2.0.2\n",
            "added 22 packages from 22 contributors and audited 22 packages in 2.701s\n",
            "\n",
            "3 packages are looking for funding\n",
            "  run `npm fund` for details\n",
            "\n",
            "found 1 \u001b[93mmoderate\u001b[0m severity vulnerability\n",
            "  run `npm audit fix` to fix them, or `npm audit` for details\n",
            "\u001b[K\u001b[?25h"
          ]
        }
      ],
      "source": [
        "!npm install localtunnel"
      ]
    },
    {
      "cell_type": "code",
      "execution_count": null,
      "metadata": {
        "id": "_kMkmDJZ37_J",
        "colab": {
          "base_uri": "https://localhost:8080/"
        },
        "outputId": "9e5a12aa-01c6-4966-c707-372952283871"
      },
      "outputs": [
        {
          "output_type": "stream",
          "name": "stdout",
          "text": [
            "Collecting streamlit-option-menu\n",
            "  Downloading streamlit_option_menu-0.3.6-py3-none-any.whl (799 kB)\n",
            "\u001b[?25l     \u001b[90m━━━━━━━━━━━━━━━━━━━━━━━━━━━━━━━━━━━━━━━━\u001b[0m \u001b[32m0.0/799.2 kB\u001b[0m \u001b[31m?\u001b[0m eta \u001b[36m-:--:--\u001b[0m\r\u001b[2K     \u001b[91m━━━━━━━\u001b[0m\u001b[90m╺\u001b[0m\u001b[90m━━━━━━━━━━━━━━━━━━━━━━━━━━━━━━━━\u001b[0m \u001b[32m143.4/799.2 kB\u001b[0m \u001b[31m4.1 MB/s\u001b[0m eta \u001b[36m0:00:01\u001b[0m\r\u001b[2K     \u001b[91m━━━━━━━━━━━━━━━━━━━━━━━━━━━━━━━━━━━━━━━\u001b[0m\u001b[91m╸\u001b[0m \u001b[32m798.7/799.2 kB\u001b[0m \u001b[31m12.8 MB/s\u001b[0m eta \u001b[36m0:00:01\u001b[0m\r\u001b[2K     \u001b[90m━━━━━━━━━━━━━━━━━━━━━━━━━━━━━━━━━━━━━━━━\u001b[0m \u001b[32m799.2/799.2 kB\u001b[0m \u001b[31m10.4 MB/s\u001b[0m eta \u001b[36m0:00:00\u001b[0m\n",
            "\u001b[?25hRequirement already satisfied: streamlit>=0.63 in /usr/local/lib/python3.10/dist-packages (from streamlit-option-menu) (1.28.2)\n",
            "Requirement already satisfied: altair<6,>=4.0 in /usr/local/lib/python3.10/dist-packages (from streamlit>=0.63->streamlit-option-menu) (4.2.2)\n",
            "Requirement already satisfied: blinker<2,>=1.0.0 in /usr/lib/python3/dist-packages (from streamlit>=0.63->streamlit-option-menu) (1.4)\n",
            "Requirement already satisfied: cachetools<6,>=4.0 in /usr/local/lib/python3.10/dist-packages (from streamlit>=0.63->streamlit-option-menu) (5.3.2)\n",
            "Requirement already satisfied: click<9,>=7.0 in /usr/local/lib/python3.10/dist-packages (from streamlit>=0.63->streamlit-option-menu) (8.1.7)\n",
            "Requirement already satisfied: importlib-metadata<7,>=1.4 in /usr/local/lib/python3.10/dist-packages (from streamlit>=0.63->streamlit-option-menu) (6.8.0)\n",
            "Requirement already satisfied: numpy<2,>=1.19.3 in /usr/local/lib/python3.10/dist-packages (from streamlit>=0.63->streamlit-option-menu) (1.23.5)\n",
            "Requirement already satisfied: packaging<24,>=16.8 in /usr/local/lib/python3.10/dist-packages (from streamlit>=0.63->streamlit-option-menu) (23.2)\n",
            "Requirement already satisfied: pandas<3,>=1.3.0 in /usr/local/lib/python3.10/dist-packages (from streamlit>=0.63->streamlit-option-menu) (1.5.3)\n",
            "Requirement already satisfied: pillow<11,>=7.1.0 in /usr/local/lib/python3.10/dist-packages (from streamlit>=0.63->streamlit-option-menu) (9.4.0)\n",
            "Requirement already satisfied: protobuf<5,>=3.20 in /usr/local/lib/python3.10/dist-packages (from streamlit>=0.63->streamlit-option-menu) (3.20.3)\n",
            "Requirement already satisfied: pyarrow>=6.0 in /usr/local/lib/python3.10/dist-packages (from streamlit>=0.63->streamlit-option-menu) (9.0.0)\n",
            "Requirement already satisfied: python-dateutil<3,>=2.7.3 in /usr/local/lib/python3.10/dist-packages (from streamlit>=0.63->streamlit-option-menu) (2.8.2)\n",
            "Requirement already satisfied: requests<3,>=2.27 in /usr/local/lib/python3.10/dist-packages (from streamlit>=0.63->streamlit-option-menu) (2.31.0)\n",
            "Requirement already satisfied: rich<14,>=10.14.0 in /usr/local/lib/python3.10/dist-packages (from streamlit>=0.63->streamlit-option-menu) (13.7.0)\n",
            "Requirement already satisfied: tenacity<9,>=8.1.0 in /usr/local/lib/python3.10/dist-packages (from streamlit>=0.63->streamlit-option-menu) (8.2.3)\n",
            "Requirement already satisfied: toml<2,>=0.10.1 in /usr/local/lib/python3.10/dist-packages (from streamlit>=0.63->streamlit-option-menu) (0.10.2)\n",
            "Requirement already satisfied: typing-extensions<5,>=4.3.0 in /usr/local/lib/python3.10/dist-packages (from streamlit>=0.63->streamlit-option-menu) (4.5.0)\n",
            "Requirement already satisfied: tzlocal<6,>=1.1 in /usr/local/lib/python3.10/dist-packages (from streamlit>=0.63->streamlit-option-menu) (5.2)\n",
            "Requirement already satisfied: validators<1,>=0.2 in /usr/local/lib/python3.10/dist-packages (from streamlit>=0.63->streamlit-option-menu) (0.22.0)\n",
            "Requirement already satisfied: gitpython!=3.1.19,<4,>=3.0.7 in /usr/local/lib/python3.10/dist-packages (from streamlit>=0.63->streamlit-option-menu) (3.1.40)\n",
            "Requirement already satisfied: pydeck<1,>=0.8.0b4 in /usr/local/lib/python3.10/dist-packages (from streamlit>=0.63->streamlit-option-menu) (0.8.1b0)\n",
            "Requirement already satisfied: tornado<7,>=6.0.3 in /usr/local/lib/python3.10/dist-packages (from streamlit>=0.63->streamlit-option-menu) (6.3.2)\n",
            "Requirement already satisfied: watchdog>=2.1.5 in /usr/local/lib/python3.10/dist-packages (from streamlit>=0.63->streamlit-option-menu) (3.0.0)\n",
            "Requirement already satisfied: entrypoints in /usr/local/lib/python3.10/dist-packages (from altair<6,>=4.0->streamlit>=0.63->streamlit-option-menu) (0.4)\n",
            "Requirement already satisfied: jinja2 in /usr/local/lib/python3.10/dist-packages (from altair<6,>=4.0->streamlit>=0.63->streamlit-option-menu) (3.1.2)\n",
            "Requirement already satisfied: jsonschema>=3.0 in /usr/local/lib/python3.10/dist-packages (from altair<6,>=4.0->streamlit>=0.63->streamlit-option-menu) (4.19.2)\n",
            "Requirement already satisfied: toolz in /usr/local/lib/python3.10/dist-packages (from altair<6,>=4.0->streamlit>=0.63->streamlit-option-menu) (0.12.0)\n",
            "Requirement already satisfied: gitdb<5,>=4.0.1 in /usr/local/lib/python3.10/dist-packages (from gitpython!=3.1.19,<4,>=3.0.7->streamlit>=0.63->streamlit-option-menu) (4.0.11)\n",
            "Requirement already satisfied: zipp>=0.5 in /usr/local/lib/python3.10/dist-packages (from importlib-metadata<7,>=1.4->streamlit>=0.63->streamlit-option-menu) (3.17.0)\n",
            "Requirement already satisfied: pytz>=2020.1 in /usr/local/lib/python3.10/dist-packages (from pandas<3,>=1.3.0->streamlit>=0.63->streamlit-option-menu) (2023.3.post1)\n",
            "Requirement already satisfied: six>=1.5 in /usr/local/lib/python3.10/dist-packages (from python-dateutil<3,>=2.7.3->streamlit>=0.63->streamlit-option-menu) (1.16.0)\n",
            "Requirement already satisfied: charset-normalizer<4,>=2 in /usr/local/lib/python3.10/dist-packages (from requests<3,>=2.27->streamlit>=0.63->streamlit-option-menu) (3.3.2)\n",
            "Requirement already satisfied: idna<4,>=2.5 in /usr/local/lib/python3.10/dist-packages (from requests<3,>=2.27->streamlit>=0.63->streamlit-option-menu) (3.4)\n",
            "Requirement already satisfied: urllib3<3,>=1.21.1 in /usr/local/lib/python3.10/dist-packages (from requests<3,>=2.27->streamlit>=0.63->streamlit-option-menu) (2.0.7)\n",
            "Requirement already satisfied: certifi>=2017.4.17 in /usr/local/lib/python3.10/dist-packages (from requests<3,>=2.27->streamlit>=0.63->streamlit-option-menu) (2023.7.22)\n",
            "Requirement already satisfied: markdown-it-py>=2.2.0 in /usr/local/lib/python3.10/dist-packages (from rich<14,>=10.14.0->streamlit>=0.63->streamlit-option-menu) (3.0.0)\n",
            "Requirement already satisfied: pygments<3.0.0,>=2.13.0 in /usr/local/lib/python3.10/dist-packages (from rich<14,>=10.14.0->streamlit>=0.63->streamlit-option-menu) (2.16.1)\n",
            "Requirement already satisfied: smmap<6,>=3.0.1 in /usr/local/lib/python3.10/dist-packages (from gitdb<5,>=4.0.1->gitpython!=3.1.19,<4,>=3.0.7->streamlit>=0.63->streamlit-option-menu) (5.0.1)\n",
            "Requirement already satisfied: MarkupSafe>=2.0 in /usr/local/lib/python3.10/dist-packages (from jinja2->altair<6,>=4.0->streamlit>=0.63->streamlit-option-menu) (2.1.3)\n",
            "Requirement already satisfied: attrs>=22.2.0 in /usr/local/lib/python3.10/dist-packages (from jsonschema>=3.0->altair<6,>=4.0->streamlit>=0.63->streamlit-option-menu) (23.1.0)\n",
            "Requirement already satisfied: jsonschema-specifications>=2023.03.6 in /usr/local/lib/python3.10/dist-packages (from jsonschema>=3.0->altair<6,>=4.0->streamlit>=0.63->streamlit-option-menu) (2023.11.1)\n",
            "Requirement already satisfied: referencing>=0.28.4 in /usr/local/lib/python3.10/dist-packages (from jsonschema>=3.0->altair<6,>=4.0->streamlit>=0.63->streamlit-option-menu) (0.31.0)\n",
            "Requirement already satisfied: rpds-py>=0.7.1 in /usr/local/lib/python3.10/dist-packages (from jsonschema>=3.0->altair<6,>=4.0->streamlit>=0.63->streamlit-option-menu) (0.13.0)\n",
            "Requirement already satisfied: mdurl~=0.1 in /usr/local/lib/python3.10/dist-packages (from markdown-it-py>=2.2.0->rich<14,>=10.14.0->streamlit>=0.63->streamlit-option-menu) (0.1.2)\n",
            "Installing collected packages: streamlit-option-menu\n",
            "Successfully installed streamlit-option-menu-0.3.6\n"
          ]
        }
      ],
      "source": [
        "!pip install streamlit-option-menu"
      ]
    },
    {
      "cell_type": "code",
      "execution_count": null,
      "metadata": {
        "colab": {
          "base_uri": "https://localhost:8080/"
        },
        "id": "xfcm8iHvsjbP",
        "outputId": "db9ccec4-dec8-4c6c-dad7-91f766de288a"
      },
      "outputs": [
        {
          "output_type": "stream",
          "name": "stdout",
          "text": [
            "Overwriting app.py\n"
          ]
        }
      ],
      "source": [
        "%%writefile app.py\n",
        "import streamlit as st\n",
        "from streamlit_option_menu import option_menu\n",
        "import pandas as pd\n",
        "import re\n",
        "import os\n",
        "import numpy as np\n",
        "import easyocr\n",
        "from easyocr import Reader\n",
        "from PIL import Image,ImageDraw\n",
        "import cv2\n",
        "import matplotlib.pyplot as plt\n",
        "import sqlite3\n",
        "\n",
        "#SETTING PAGE CONFIGURATION\n",
        "icon = Image.open(\"business_card.png\")\n",
        "st.set_page_config(\n",
        "    page_title=\"Bizcardx: Extracting Bussiness card Data with EasyOCR\",\n",
        "    page_icon= icon,\n",
        "    layout=\"wide\",\n",
        "    initial_sidebar_state=\"expanded\")\n",
        "st.markdown(\"<h1 style='text-align:center;color:black;'>Bizcardx: Extracting Bussiness card Data with EasyOCR</h1>\",unsafe_allow_html=True)\n",
        "\n",
        "#CREATING OPTION MENU\n",
        "with st.sidebar:\n",
        "    selected =option_menu(\n",
        "        menu_title = None,\n",
        "        options=[\"HOME\",\"UPLOAD & EXTRACT\",\"MODIFY & DELETE\"],\n",
        "        icons= [\"house\",\"cloud-upload-fill\",\"pencil-square\"],\n",
        "        menu_icon =\"cast\",\n",
        "        default_index= 0,\n",
        "        orientation=\"horizontal\",\n",
        "    )\n",
        "#INITIALIZING THE EASYOCR READER\n",
        "reader = easyocr.Reader(['en'],gpu = False)          #verbose=False\n",
        "# CONNECTING WITH MYSQL DATABASE\n",
        "import sqlite3\n",
        "con = sqlite3.connect(\"Bizcardx.db\")\n",
        "mycursor = con.cursor()\n",
        "# TABLE CREATION\n",
        "mycursor.execute('''CREATE TABLE if not exists bizcard\n",
        "                 (\n",
        "                 Company_Name TEXT,\n",
        "                 Card_Holder TEXT,\n",
        "                 Designation TEXT,\n",
        "                 Mobile_Number VARCHAR(50),\n",
        "                 email TEXT,\n",
        "                 website TEXT,\n",
        "                 Area TEXT,\n",
        "                 City TEXT,\n",
        "                 State TEXT,\n",
        "                 Pincode VARCHAR(10),\n",
        "                 image LONGBLOB)''')\n",
        "\n",
        "\n",
        "#HOME MENU\n",
        "if selected == \"HOME\":\n",
        "    col1,col2 = st.columns(2)\n",
        "    with col1:\n",
        "        st.markdown(\"[**TECHNOLOGIES_USED:**] PYTHON,EASYOCR,STREAMLIT,SQL & pandas\")\n",
        "        st.markdown(\"[**OVERVIEW:**]In this streamlit web app we can upload the business card image and extract the data in the image\")\n",
        "    st.header('''OCR stands for \"Optical Character Recognition.\"\n",
        "                        It is a technology that recognizes text within a digital image.\n",
        "                 It is commonly used to recognize text in scanned documents and images.\n",
        "                 OCR software can be used to convert a physical paper document,\n",
        "                or an image into an accessible electronic version with text.''')\n",
        "    st.subheader('''Importance of OCR:\n",
        "                OCR technology solves the problem by converting text images into text data that can be analyzed by other business software.\n",
        "                You can then use the data to conduct analytics, streamline operations, automate processes, and improve productivity.  ''')\n",
        "    with col2:\n",
        "      st.image(\"business_card.png\")\n",
        "\n",
        "# UPLOAD & EXTRACTING DATA FROM IMAGE\n",
        "if selected == \"UPLOAD & EXTRACT\":\n",
        "    st.title(\"uploading image\")\n",
        "    st.markdown(\"---\")\n",
        "    uploaded_card =st.file_uploader(\"please upload the Image\",label_visibility= \"collapsed\",type=[\"png\",\"jpg\",\"jpeg\"])\n",
        "    if uploaded_card is not None:\n",
        "      def save_card(uploaded_card):\n",
        "        with open(os.path.join(uploaded_card.name),\"wb\") as f:\n",
        "          f.write(uploaded_card.getbuffer())\n",
        "      save_card(uploaded_card)\n",
        "      def image_preview(img,bounds):\n",
        "            #unpack the bounding box\n",
        "            for (bbox,text,prob) in bounds:\n",
        "                (t1,tr,br,b1) = bbox\n",
        "                t1 = (int(t1[0]),int(t1[1]))\n",
        "                tr = (int(tr[0]),int(t1[1]))\n",
        "                br = (int(br[0]),int(br[1]))\n",
        "                b1 = (int(b1[0]),int(b1[1]))\n",
        "                cv2.rectangle(img,t1,br,(0,255,0),2)\n",
        "                cv2.putText(img,text,(t1[0],t1[1] - 10),\n",
        "                cv2.FONT_HERSHEY_COMPLEX, 0.7, (255,0,0),2)\n",
        "            plt.rcParams['figure.figsize'] = (15,15)\n",
        "            plt.axis('off')\n",
        "            plt.imshow(img)\n",
        "# DISPLAYING THE UPLOADED CARD\n",
        "      col1,col2 = st.columns(2, gap = \"large\")\n",
        "      with col1:\n",
        "        st.markdown(\"### You have uploaded the card\")\n",
        "        st.image(uploaded_card)\n",
        "\n",
        "#DISPLAYING THE CARD WITH HIGHLIGHTS\n",
        "      with col2:\n",
        "        with st.spinner(\"please wait processing image...\"):\n",
        "\n",
        "          saved_image = os.path.join(os.getcwd()+\"/\"+ uploaded_card.name)\n",
        "          img = cv2.imread(saved_image)\n",
        "          pil_image = Image.fromarray(cv2.cvtColor(img, cv2.COLOR_BGR2RGB))\n",
        "          img_array = cv2.cvtColor(np.array(pil_image), cv2.COLOR_RGB2BGR)\n",
        "          bounds = reader.readtext(img_array)\n",
        "\n",
        "\n",
        "#Displaying image with bounding boxes\n",
        "        def draw_boxes(img, bounds, color='yellow', width=2):\n",
        "            img = Image.fromarray(cv2.cvtColor(img, cv2.COLOR_BGR2RGB))  # Convert NumPy array to PIL Image\n",
        "            draw = ImageDraw.Draw(img)\n",
        "            for bound in bounds:\n",
        "              p0, p1, p2, p3 = bound[0]\n",
        "              draw.line([*p0, *p1, *p2, *p3, *p0], fill=color, width=width)\n",
        "            return img\n",
        "        result = draw_boxes(img, bounds)\n",
        "        st.image(result)\n",
        "\n",
        "       # CONVERTING IMAGE TO BINARY\n",
        "        def img_to_binary(file):\n",
        "                with open(file, \"rb\") as file:\n",
        "                    BinaryData = file.read()\n",
        "                return BinaryData\n",
        "\n",
        "        # FUNCTION TO GET DATA\n",
        "        def extract(l):\n",
        "          data = {\"Company_Name\": [],\"Card_Holder\": [],\"Designation\": [],\"Mobile_Number\": [],\"email\": [],\"website\": [],\"Area\": [],\"City\": [],\"State\": [],\"Pincode\": []}\n",
        "\n",
        "          data['Card_Holder'].append(l[0])\n",
        "          l.pop(0)\n",
        "          data['Designation'].append(l[0])\n",
        "          l.pop(0)\n",
        "          for j in range(3):\n",
        "              for i in l:\n",
        "\n",
        "                  if '+' in i or '-' in i:\n",
        "                      data[\"Mobile_Number\"].append(l.pop(l.index(i)))\n",
        "                  elif i.isnumeric():\n",
        "                      data['Pincode'].append(l.pop(l.index(i)))\n",
        "                  elif '@' in i:\n",
        "                      data['email'].append(l.pop(l.index(i)))\n",
        "                  elif ('www' in i.lower() or '.com' in i.lower()) and '@' not in i.lower():\n",
        "                      data['website'].append(l.pop(l.index(i)))\n",
        "                  elif ',' in i or ';' in i:\n",
        "                      k = i.replace(';',',').replace(',,',',')\n",
        "                      k=k.split(',')\n",
        "                      if len(k) > 2:\n",
        "                          data['Area'].append(k[0])\n",
        "                          data['City'].append(k[1])\n",
        "                          data['State'].append(k[2])\n",
        "                          l.pop(l.index(i))\n",
        "                  elif len(i.split())==2:\n",
        "                      if i.split()[1].isnumeric():\n",
        "                          data['State'].clear()\n",
        "                          data['Pincode'].clear()\n",
        "                          data['State'].append(i.split()[0])\n",
        "                          data['Pincode'].append(i.split()[1])\n",
        "                          l.pop(l.index(i))\n",
        "          if len(l) <= 3:\n",
        "              data['Company_Name'].append(' '.join(l))\n",
        "          else:\n",
        "              data['Company_Name'].append(l.pop(2)+l.pop(2))\n",
        "              data[\"Area\"].append(l.pop(2)+l.pop(0))\n",
        "              data[\"City\"].append(l.pop(0))\n",
        "          return {i:' '.join(data[i]) for i in data}\n",
        "        data =[extract([i[1] for i in bounds])]\n",
        "        #data = st.write([i[1] for i in bounds])\n",
        "        st.write(data)\n",
        "        # FUNCTION TO CREATE DATAFRAME\n",
        "        df = pd.DataFrame(data)\n",
        "        df ['image']= img_to_binary(saved_image)\n",
        "        st.dataframe(df)\n",
        "        st.success(\"### DATA EXTRACTED SUCCESSFULLY\", icon=\"✅\")\n",
        "\n",
        "        if st.button(\"Upload to Database\"):\n",
        "          for i, row in df.iterrows():\n",
        "              sql = \"\"\"INSERT INTO bizcard('Company_Name', 'Card_Holder', 'Designation', 'Mobile_Number', 'email', 'website',\n",
        "                                        'Area', 'City', 'State', 'Pincode', 'image') VALUES (?, ?, ?, ?, ?, ?, ?, ?, ?, ?, ?)\"\"\"\n",
        "              mycursor.execute(sql, tuple(row))\n",
        "              con.commit()\n",
        "          st.success(\"### Uploaded to Database successfully\",icon=\"✅\")\n",
        "          #checking whether the data inserted into sql database\n",
        "        #S = mycursor.execute('SELECT* FROM bizcard')\n",
        "        #d = S.fetchall()\n",
        "        #st.write(d)\n",
        "# MODIFY AND\n",
        "if selected == \"MODIFY & DELETE\":\n",
        "  col1,col2,col3 = st.columns([3,3,2])\n",
        "  col2.markdown(\"## Alter or Delete the data here\")\n",
        "  column1,column2 = st.columns(2,gap=\"large\")\n",
        "  try:\n",
        "      with column1:\n",
        "        mycursor.execute(\"SELECT Card_Holder FROM bizcard\")\n",
        "        result = mycursor.fetchall()\n",
        "        business_cards = {}\n",
        "        for row in result:\n",
        "          business_cards[row[0]]= row[0]\n",
        "        selected_card = st.selectbox(\"select a Card_Holder name to update\",list(business_cards.keys()))\n",
        "        st.markdown(\"#### Update or modify the data given below\")\n",
        "        mycursor.execute(\"SELECT Company_Name,Card_Holder,Designation,Mobile_Number,email,website,Area,City,State,Pincode FROM bizcard WHERE Card_Holder=?\",(selected_card,))\n",
        "        result = mycursor.fetchone()\n",
        "        # Displaying the information\n",
        "        Company_Name = st.text_input(\"Company_Name\",result[0])\n",
        "        Card_Holder = st.text_input(\"Card_Holder\",result[1])\n",
        "        Designation = st.text_input(\"Designation\",result[2])\n",
        "        Mobile_Number = st.text_input(\"Mobile_Number\",result[3])\n",
        "        email = st.text_input(\"email\",result[4])\n",
        "        website = st.text_input(\"website\",result[5])\n",
        "        Area = st.text_input(\"Area\",result[6])\n",
        "        City = st.text_input(\"City\",result[7])\n",
        "        State = st.text_input(\"State\",result[8])\n",
        "        Pincode = st.text_input(\"pincode\",result[9])\n",
        "        if st.button(\"Commit changes to DB\"):\n",
        "          # update the information for the selected business_card in the database\n",
        "          mycursor.execute(\"\"\"UPDATE bizcard SET Company_Name = ?,Card_Holder = ?,Designation = ?,Mobile_Number = ?,email =?,website =?,Area = ?,City = ?,State = ?,Pincode = ?\n",
        "                          WHERE Card_Holder = ?\"\"\",(Company_Name,Card_Holder,Designation,Mobile_Number,email,website,Area,City,State,Pincode,selected_card))\n",
        "          con.commit()\n",
        "          st.success(\"Information updated in database Succcessfully.\")\n",
        "      with column2:\n",
        "        mycursor.execute(\"SELECT Card_Holder FROM bizcard\")\n",
        "        result = mycursor.fetchall()\n",
        "        business_cards = {}\n",
        "        for row in result:\n",
        "          business_cards[row[0]] = row[0]\n",
        "        selected_card = st.selectbox(\"select a Card_Holder name to Delete\",list(business_cards.keys()))\n",
        "        st.write(f\"### You have selected: green[**{selected}'s**] card to delete\")\n",
        "        st.write(\"Proceed to delete this card\")\n",
        "        if st.button(\"Delete the business_card\"):\n",
        "          mycursor.execute(f\"DELETE FROM bizcard WHERE Card_Holder = '{selected_card}'\")\n",
        "          con.commit()\n",
        "          st.success(\"Business card information deleted from database.\")\n",
        "  except:\n",
        "    st.warning(\"There is no data available in the database\")\n",
        "\n",
        "\n",
        "\n",
        "\n",
        "\n",
        "\n",
        "\n",
        "\n",
        "\n",
        "\n"
      ]
    },
    {
      "cell_type": "code",
      "execution_count": null,
      "metadata": {
        "id": "VX6QA6V3QgKL",
        "colab": {
          "base_uri": "https://localhost:8080/"
        },
        "outputId": "51edf7aa-e856-4551-8c3a-8dfd4a3b493d"
      },
      "outputs": [
        {
          "output_type": "stream",
          "name": "stdout",
          "text": [
            "35.185.27.206\n",
            "\u001b[K\u001b[?25hnpx: installed 22 in 2.908s\n",
            "your url is: https://dull-corners-chew.loca.lt\n"
          ]
        }
      ],
      "source": [
        "!streamlit run /content/app.py &>/content/logs.txt & npx localtunnel --port 8501 & curl ipv4.icanhazip.com"
      ]
    }
  ],
  "metadata": {
    "colab": {
      "provenance": []
    },
    "kernelspec": {
      "display_name": "Python 3",
      "name": "python3"
    },
    "language_info": {
      "name": "python"
    }
  },
  "nbformat": 4,
  "nbformat_minor": 0
}